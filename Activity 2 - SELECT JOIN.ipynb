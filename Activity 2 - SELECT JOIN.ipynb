{
 "cells": [
  {
   "cell_type": "markdown",
   "metadata": {},
   "source": [
    "# Activity 2 - SELECT JOIN"
   ]
  },
  {
   "cell_type": "code",
   "execution_count": null,
   "metadata": {},
   "outputs": [],
   "source": [
    "import sqlite3\n",
    "db = sqlite3.connect('database.sqlite')"
   ]
  },
  {
   "cell_type": "markdown",
   "metadata": {},
   "source": [
    "### Basic Joins"
   ]
  },
  {
   "cell_type": "code",
   "execution_count": null,
   "metadata": {},
   "outputs": [],
   "source": [
    "cursor = db.execute(\"\"\"\n",
    "    SELECT * FROM League INNER JOIN Country\n",
    "    ON League.country_id = Country.id\n",
    "\"\"\")"
   ]
  },
  {
   "cell_type": "code",
   "execution_count": null,
   "metadata": {},
   "outputs": [],
   "source": [
    "cursor.fetchall()"
   ]
  },
  {
   "cell_type": "code",
   "execution_count": null,
   "metadata": {},
   "outputs": [],
   "source": [
    "cursor = db.execute(\"\"\"\n",
    "    SELECT League.name, Country.name FROM League INNER JOIN Country\n",
    "    ON League.country_id = Country.id\n",
    "\"\"\")"
   ]
  },
  {
   "cell_type": "code",
   "execution_count": null,
   "metadata": {
    "scrolled": true
   },
   "outputs": [],
   "source": [
    "cursor.fetchall()"
   ]
  },
  {
   "cell_type": "markdown",
   "metadata": {},
   "source": [
    "**Aliases**"
   ]
  },
  {
   "cell_type": "code",
   "execution_count": null,
   "metadata": {},
   "outputs": [],
   "source": [
    "cursor = db.execute(\"\"\"\n",
    "    SELECT L.name, C.name FROM League L INNER JOIN Country C\n",
    "    ON L.country_id = C.id\n",
    "\"\"\")"
   ]
  },
  {
   "cell_type": "code",
   "execution_count": null,
   "metadata": {
    "scrolled": false
   },
   "outputs": [],
   "source": [
    "cursor.fetchall()"
   ]
  },
  {
   "cell_type": "markdown",
   "metadata": {},
   "source": [
    "### Prettier Output using Pandas"
   ]
  },
  {
   "cell_type": "code",
   "execution_count": null,
   "metadata": {},
   "outputs": [],
   "source": [
    "import pandas as pd"
   ]
  },
  {
   "cell_type": "code",
   "execution_count": null,
   "metadata": {},
   "outputs": [],
   "source": [
    "pd.read_sql(\"\"\"\n",
    "    SELECT L.name, C.name FROM League L INNER JOIN Country C\n",
    "    ON L.country_id = C.id\n",
    "\"\"\", db)"
   ]
  },
  {
   "cell_type": "markdown",
   "metadata": {},
   "source": [
    "We'll use \"Real Madrid\" in the following queries. Just in case, this is its basic info:"
   ]
  },
  {
   "cell_type": "code",
   "execution_count": null,
   "metadata": {
    "scrolled": true
   },
   "outputs": [],
   "source": [
    "pd.read_sql('SELECT * FROM Team WHERE team_long_name = \"Real Madrid CF\"', db)"
   ]
  },
  {
   "cell_type": "markdown",
   "metadata": {},
   "source": [
    "### Advanced Join\n",
    "_(3 or more tables)_\n",
    "\n",
    "> **Warning:** Some of these queries are rather complex and will impose some load on sqlite. Don't worry if they take a couple of seconds; that shouldn't happen in a production environment."
   ]
  },
  {
   "cell_type": "markdown",
   "metadata": {},
   "source": [
    "**The first match played by Real Madrid at home**"
   ]
  },
  {
   "cell_type": "code",
   "execution_count": null,
   "metadata": {
    "scrolled": true
   },
   "outputs": [],
   "source": [
    "pd.read_sql(\"\"\"\n",
    "    SELECT\n",
    "        C.name, L.name, M.id, M.date, T.team_long_name, M.away_team_api_id,\n",
    "        M.home_team_goal, M.away_team_goal\n",
    "    FROM Match M\n",
    "    INNER JOIN Country C ON (M.country_id = C.id)\n",
    "    INNER JOIN League L ON (M.league_id = L.id)\n",
    "    INNER JOIN Team T ON (M.home_team_api_id = T.team_api_id)\n",
    "    WHERE T.team_long_name = \"Real Madrid CF\"\n",
    "    LIMIT 1\"\"\", db)"
   ]
  },
  {
   "cell_type": "markdown",
   "metadata": {},
   "source": [
    "Seems like they won 4-3. Who's the away team?"
   ]
  },
  {
   "cell_type": "code",
   "execution_count": null,
   "metadata": {},
   "outputs": [],
   "source": [
    "pd.read_sql(\"\"\"\n",
    "    SELECT *\n",
    "    FROM Team T\n",
    "    WHERE T.team_api_id = 9864\n",
    "    LIMIT 1\"\"\", db)"
   ]
  },
  {
   "cell_type": "markdown",
   "metadata": {},
   "source": [
    "![image](https://user-images.githubusercontent.com/872296/38050073-40be91a8-32a0-11e8-9726-8fac86cccac5.png)\n",
    "\n",
    "This 2008 page seems to confirm it: https://resultados.as.com/resultados/futbol/primera/2008_2009/directo/regular_a_10_13538"
   ]
  },
  {
   "cell_type": "markdown",
   "metadata": {},
   "source": [
    "**Could we have displayed both team names with only one query?**\n",
    "\n",
    "Yes, you can join many times the same table:"
   ]
  },
  {
   "cell_type": "code",
   "execution_count": null,
   "metadata": {},
   "outputs": [],
   "source": [
    "pd.read_sql(\"\"\"\n",
    "    SELECT\n",
    "        C.name, L.name, M.id, M.date, T_Home.team_long_name, T_Away.team_long_name,\n",
    "        M.home_team_goal, M.away_team_goal\n",
    "    FROM Match M\n",
    "    INNER JOIN Country C ON (M.country_id = C.id)\n",
    "    INNER JOIN League L ON (M.league_id = L.id)\n",
    "    INNER JOIN Team T_Home ON (M.home_team_api_id = T_Home.team_api_id)\n",
    "    INNER JOIN Team T_Away ON (M.away_team_api_id = T_Away.team_api_id)\n",
    "    WHERE T_Home.id = 43040\n",
    "    LIMIT 1\"\"\", db)"
   ]
  },
  {
   "cell_type": "markdown",
   "metadata": {},
   "source": [
    "So we could start also getting the initial team lineup:"
   ]
  },
  {
   "cell_type": "code",
   "execution_count": null,
   "metadata": {},
   "outputs": [],
   "source": [
    "pd.read_sql(\"\"\"\n",
    "    SELECT\n",
    "        M.id, M.date, T_Home.team_long_name, T_Away.team_long_name,\n",
    "        M.home_team_goal, M.away_team_goal,\n",
    "        P_Home_1.player_name 'H1'\n",
    "    FROM Match M\n",
    "    INNER JOIN Country C ON (M.country_id = C.id)\n",
    "    INNER JOIN League L ON (M.league_id = L.id)\n",
    "    INNER JOIN Team T_Home ON (M.home_team_api_id = T_Home.team_api_id)\n",
    "    INNER JOIN Team T_Away ON (M.away_team_api_id = T_Away.team_api_id)\n",
    "    \n",
    "    INNER JOIN Player P_Home_1 ON (M.home_player_1 = P_Home_1.player_api_id)\n",
    "    \n",
    "    WHERE T_Home.id = 43040\n",
    "    LIMIT 1\"\"\", db)"
   ]
  },
  {
   "cell_type": "markdown",
   "metadata": {},
   "source": [
    "According to [the report from 2008](https://resultados.as.com/resultados/futbol/primera/2008_2009/directo/regular_a_10_13538), seems like Iker was Real Madrid's Goalkeeper.\n",
    "\n",
    "We could keep extending it:"
   ]
  },
  {
   "cell_type": "code",
   "execution_count": null,
   "metadata": {},
   "outputs": [],
   "source": [
    "pd.read_sql(\"\"\"\n",
    "    SELECT\n",
    "        M.id, M.date, T_Home.team_long_name, T_Away.team_long_name,\n",
    "        M.home_team_goal, M.away_team_goal,\n",
    "        P_Home_1.player_name 'H1',\n",
    "        P_Home_2.player_name 'H2'\n",
    "    FROM Match M\n",
    "    INNER JOIN Country C ON (M.country_id = C.id)\n",
    "    INNER JOIN League L ON (M.league_id = L.id)\n",
    "    INNER JOIN Team T_Home ON (M.home_team_api_id = T_Home.team_api_id)\n",
    "    INNER JOIN Team T_Away ON (M.away_team_api_id = T_Away.team_api_id)\n",
    "    \n",
    "    INNER JOIN Player P_Home_1 ON (M.home_player_1 = P_Home_1.player_api_id)\n",
    "    INNER JOIN Player P_Home_2 ON (M.home_player_2 = P_Home_2.player_api_id)\n",
    "    \n",
    "    WHERE T_Home.id = 43040\n",
    "    LIMIT 1\"\"\", db)"
   ]
  },
  {
   "cell_type": "markdown",
   "metadata": {},
   "source": [
    "**But we hate repetition, so we can make Python do the hard work:**"
   ]
  },
  {
   "cell_type": "code",
   "execution_count": null,
   "metadata": {},
   "outputs": [],
   "source": [
    "base_query = \"\"\"\n",
    "    SELECT\n",
    "        M.id, M.date, T_Home.team_long_name, T_Away.team_long_name,\n",
    "        M.home_team_goal, M.away_team_goal,\n",
    "        \n",
    "        {player_columns}\n",
    "        \n",
    "    FROM Match M\n",
    "    INNER JOIN Country C ON (M.country_id = C.id)\n",
    "    INNER JOIN League L ON (M.league_id = L.id)\n",
    "    INNER JOIN Team T_Home ON (M.home_team_api_id = T_Home.team_api_id)\n",
    "    INNER JOIN Team T_Away ON (M.away_team_api_id = T_Away.team_api_id)\n",
    "    \n",
    "    {player_joins}\n",
    "    \n",
    "    WHERE T_Home.id = 43040\n",
    "    LIMIT 1\"\"\""
   ]
  },
  {
   "cell_type": "code",
   "execution_count": null,
   "metadata": {},
   "outputs": [],
   "source": [
    "columns = \"\"\n",
    "joins = \"\"\n",
    "for i in range(1, 12):\n",
    "    joins += ('INNER JOIN Player P_Home_{pos} ON '\n",
    "              '(M.home_player_{pos} = P_Home_{pos}.player_api_id)\\n').format(pos=i)\n",
    "    columns += \"P_Home_{pos}.player_name 'H{pos}',\\n\".format(pos=i)\n",
    "columns = columns.rstrip(',\\n')"
   ]
  },
  {
   "cell_type": "code",
   "execution_count": null,
   "metadata": {},
   "outputs": [],
   "source": [
    "print(joins)"
   ]
  },
  {
   "cell_type": "code",
   "execution_count": null,
   "metadata": {},
   "outputs": [],
   "source": [
    "print(columns)"
   ]
  },
  {
   "cell_type": "code",
   "execution_count": null,
   "metadata": {},
   "outputs": [],
   "source": [
    "query = base_query.format(player_joins=joins, player_columns=columns)"
   ]
  },
  {
   "cell_type": "code",
   "execution_count": null,
   "metadata": {
    "scrolled": true
   },
   "outputs": [],
   "source": [
    "print(query)"
   ]
  },
  {
   "cell_type": "code",
   "execution_count": null,
   "metadata": {
    "scrolled": true
   },
   "outputs": [],
   "source": [
    "pd.read_sql(query, db)"
   ]
  }
 ],
 "metadata": {
  "kernelspec": {
   "display_name": "Python 3",
   "language": "python",
   "name": "python3"
  },
  "language_info": {
   "codemirror_mode": {
    "name": "ipython",
    "version": 3
   },
   "file_extension": ".py",
   "mimetype": "text/x-python",
   "name": "python",
   "nbconvert_exporter": "python",
   "pygments_lexer": "ipython3",
   "version": "3.6.6"
  }
 },
 "nbformat": 4,
 "nbformat_minor": 2
}
