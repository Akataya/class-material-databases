{
 "cells": [
  {
   "cell_type": "markdown",
   "metadata": {},
   "source": [
    "# Activity 4 - INSERT, UPDATE, DELETE\n",
    "\n",
    "We'll do a few simple INSERT, UPDATE, DELETE queries with an in-memory database. These queries are extremely simple in syntax."
   ]
  },
  {
   "cell_type": "code",
   "execution_count": 1,
   "metadata": {},
   "outputs": [
    {
     "data": {
      "text/plain": [
       "<sqlite3.Cursor at 0x10bd7aa40>"
      ]
     },
     "execution_count": 1,
     "metadata": {},
     "output_type": "execute_result"
    }
   ],
   "source": [
    "import sqlite3\n",
    "# Database setup: Please don't change this\n",
    "db = sqlite3.connect(\"file::memory:?cache=shared\")\n",
    "\n",
    "db.executescript(\"\"\"\n",
    "drop table if exists ProgrammingLanguage;\n",
    "CREATE TABLE ProgrammingLanguage (\n",
    "  id INTEGER PRIMARY KEY AUTOINCREMENT,\n",
    "  name text not null,\n",
    "  github_stars integer null,\n",
    "\n",
    "  CONSTRAINT constraint_name UNIQUE (name)\n",
    ");\n",
    "\"\"\")"
   ]
  },
  {
   "cell_type": "markdown",
   "metadata": {},
   "source": [
    "### INSERT\n",
    "\n",
    "```sql\n",
    "INSERT INTO <TABLE> (<col1>, <col2>, ...) VALUES (<val1>, <val2>, ...)\n",
    "```\n"
   ]
  },
  {
   "cell_type": "code",
   "execution_count": 2,
   "metadata": {
    "scrolled": true
   },
   "outputs": [
    {
     "data": {
      "text/plain": [
       "[]"
      ]
     },
     "execution_count": 2,
     "metadata": {},
     "output_type": "execute_result"
    }
   ],
   "source": [
    "cursor = db.execute('SELECT * FROM ProgrammingLanguage')\n",
    "cursor.fetchall()"
   ]
  },
  {
   "cell_type": "markdown",
   "metadata": {},
   "source": [
    "**Simple INSERT**"
   ]
  },
  {
   "cell_type": "code",
   "execution_count": 3,
   "metadata": {},
   "outputs": [],
   "source": [
    "cursor = db.execute(\"\"\"\n",
    "    INSERT INTO ProgrammingLanguage\n",
    "        (id, name, github_stars)\n",
    "    VALUES\n",
    "        (1, \"Python\", 18856)\n",
    "\"\"\")"
   ]
  },
  {
   "cell_type": "code",
   "execution_count": 4,
   "metadata": {},
   "outputs": [
    {
     "data": {
      "text/plain": [
       "[(1, 'Python', 18856)]"
      ]
     },
     "execution_count": 4,
     "metadata": {},
     "output_type": "execute_result"
    }
   ],
   "source": [
    "cursor = db.execute('SELECT * FROM ProgrammingLanguage')\n",
    "cursor.fetchall()"
   ]
  },
  {
   "cell_type": "markdown",
   "metadata": {},
   "source": [
    "**Insert without an ID, as it's AUTOINCREMENT**"
   ]
  },
  {
   "cell_type": "code",
   "execution_count": 5,
   "metadata": {},
   "outputs": [],
   "source": [
    "cursor = db.execute(\"\"\"\n",
    "    INSERT INTO ProgrammingLanguage\n",
    "        (name, github_stars)\n",
    "    VALUES\n",
    "        (\"Ruby\", 14126)\n",
    "\"\"\")"
   ]
  },
  {
   "cell_type": "markdown",
   "metadata": {},
   "source": [
    "Want to know which ID was assigned? Use `cursor.lastrowid`:"
   ]
  },
  {
   "cell_type": "code",
   "execution_count": 6,
   "metadata": {},
   "outputs": [
    {
     "data": {
      "text/plain": [
       "2"
      ]
     },
     "execution_count": 6,
     "metadata": {},
     "output_type": "execute_result"
    }
   ],
   "source": [
    "cursor.lastrowid"
   ]
  },
  {
   "cell_type": "code",
   "execution_count": 7,
   "metadata": {
    "scrolled": true
   },
   "outputs": [
    {
     "data": {
      "text/plain": [
       "[(1, 'Python', 18856), (2, 'Ruby', 14126)]"
      ]
     },
     "execution_count": 7,
     "metadata": {},
     "output_type": "execute_result"
    }
   ],
   "source": [
    "cursor = db.execute('SELECT * FROM ProgrammingLanguage')\n",
    "cursor.fetchall()"
   ]
  },
  {
   "cell_type": "markdown",
   "metadata": {},
   "source": [
    "**Constraint checks happen at INSERT time**\n",
    "\n",
    "For example, duplicating a Programming Language:"
   ]
  },
  {
   "cell_type": "code",
   "execution_count": 8,
   "metadata": {},
   "outputs": [
    {
     "name": "stderr",
     "output_type": "stream",
     "text": [
      "ERROR:root:An unexpected error occurred while tokenizing input\n",
      "The following traceback may be corrupted or invalid\n",
      "The error message is: ('EOF in multi-line string', (1, 0))\n",
      "\n"
     ]
    },
    {
     "ename": "IntegrityError",
     "evalue": "UNIQUE constraint failed: ProgrammingLanguage.name",
     "output_type": "error",
     "traceback": [
      "\u001b[0;31m---------------------------------------------------------------------------\u001b[0m",
      "\u001b[0;31mIntegrityError\u001b[0m                            Traceback (most recent call last)",
      "\u001b[0;32m<ipython-input-8-114b6aaa189d>\u001b[0m in \u001b[0;36m<module>\u001b[0;34m()\u001b[0m\n\u001b[1;32m      4\u001b[0m     \u001b[0mVALUES\u001b[0m\u001b[0;34m\u001b[0m\u001b[0m\n\u001b[1;32m      5\u001b[0m         \u001b[0;34m(\u001b[0m\u001b[0;34m\"Ruby\"\u001b[0m\u001b[0;34m,\u001b[0m \u001b[0;36m14126\u001b[0m\u001b[0;34m)\u001b[0m\u001b[0;34m\u001b[0m\u001b[0m\n\u001b[0;32m----> 6\u001b[0;31m \"\"\")\n\u001b[0m",
      "\u001b[0;31mIntegrityError\u001b[0m: UNIQUE constraint failed: ProgrammingLanguage.name"
     ]
    }
   ],
   "source": [
    "cursor = db.execute(\"\"\"\n",
    "    INSERT INTO ProgrammingLanguage\n",
    "        (name, github_stars)\n",
    "    VALUES\n",
    "        (\"Ruby\", 14126)\n",
    "\"\"\")"
   ]
  },
  {
   "cell_type": "markdown",
   "metadata": {},
   "source": [
    "**NULLable fields are optional**"
   ]
  },
  {
   "cell_type": "code",
   "execution_count": 9,
   "metadata": {},
   "outputs": [],
   "source": [
    "cursor = db.execute(\"\"\"\n",
    "    INSERT INTO ProgrammingLanguage\n",
    "        (name)\n",
    "    VALUES\n",
    "        (\"Node JS\")\n",
    "\"\"\")"
   ]
  },
  {
   "cell_type": "code",
   "execution_count": 10,
   "metadata": {
    "scrolled": true
   },
   "outputs": [
    {
     "data": {
      "text/plain": [
       "[(1, 'Python', 18856), (2, 'Ruby', 14126), (3, 'Node JS', None)]"
      ]
     },
     "execution_count": 10,
     "metadata": {},
     "output_type": "execute_result"
    }
   ],
   "source": [
    "cursor = db.execute('SELECT * FROM ProgrammingLanguage')\n",
    "cursor.fetchall()"
   ]
  },
  {
   "cell_type": "markdown",
   "metadata": {},
   "source": [
    "**INSERT multiple values with the same query**"
   ]
  },
  {
   "cell_type": "code",
   "execution_count": 11,
   "metadata": {},
   "outputs": [],
   "source": [
    "cursor = db.execute(\"\"\"\n",
    "    INSERT INTO ProgrammingLanguage\n",
    "        (name, github_stars)\n",
    "    VALUES\n",
    "        (\"Rust\", 27319),\n",
    "        (\"Perl\", 321),\n",
    "        (\"Clojure\", 7056),\n",
    "        (\"Scala\", 9933),\n",
    "        (\"Elixir\", 12610),\n",
    "        (\"Coffee Script\", 14636),\n",
    "        (\"PHP\", 16864)\n",
    "\"\"\")"
   ]
  },
  {
   "cell_type": "code",
   "execution_count": 12,
   "metadata": {},
   "outputs": [
    {
     "data": {
      "text/plain": [
       "[(1, 'Python', 18856),\n",
       " (2, 'Ruby', 14126),\n",
       " (3, 'Node JS', None),\n",
       " (4, 'Rust', 27319),\n",
       " (5, 'Perl', 321),\n",
       " (6, 'Clojure', 7056),\n",
       " (7, 'Scala', 9933),\n",
       " (8, 'Elixir', 12610),\n",
       " (9, 'Coffee Script', 14636),\n",
       " (10, 'PHP', 16864)]"
      ]
     },
     "execution_count": 12,
     "metadata": {},
     "output_type": "execute_result"
    }
   ],
   "source": [
    "cursor = db.execute('SELECT * FROM ProgrammingLanguage')\n",
    "cursor.fetchall()"
   ]
  },
  {
   "cell_type": "markdown",
   "metadata": {},
   "source": [
    "**INSERT also works with param replacing**"
   ]
  },
  {
   "cell_type": "code",
   "execution_count": 13,
   "metadata": {},
   "outputs": [],
   "source": [
    "params = {\n",
    "    'name': 'Kotlin',\n",
    "    'stars': 21592\n",
    "}\n",
    "cursor = db.execute(\"\"\"\n",
    "    INSERT INTO ProgrammingLanguage\n",
    "        (name, github_stars)\n",
    "    VALUES\n",
    "        (:name, :stars)\n",
    "\"\"\", params)"
   ]
  },
  {
   "cell_type": "code",
   "execution_count": 14,
   "metadata": {
    "scrolled": true
   },
   "outputs": [
    {
     "data": {
      "text/plain": [
       "[(1, 'Python', 18856),\n",
       " (2, 'Ruby', 14126),\n",
       " (3, 'Node JS', None),\n",
       " (4, 'Rust', 27319),\n",
       " (5, 'Perl', 321),\n",
       " (6, 'Clojure', 7056),\n",
       " (7, 'Scala', 9933),\n",
       " (8, 'Elixir', 12610),\n",
       " (9, 'Coffee Script', 14636),\n",
       " (10, 'PHP', 16864),\n",
       " (11, 'Kotlin', 21592)]"
      ]
     },
     "execution_count": 14,
     "metadata": {},
     "output_type": "execute_result"
    }
   ],
   "source": [
    "cursor = db.execute('SELECT * FROM ProgrammingLanguage')\n",
    "cursor.fetchall()"
   ]
  },
  {
   "cell_type": "markdown",
   "metadata": {},
   "source": [
    "### UPDATE\n",
    "\n",
    "```sql\n",
    "UPDATE <TABLE>\n",
    "SET col1 = value1, col22 = value2, ...\n",
    "[WHERE <CONDITION>];\n",
    "```"
   ]
  },
  {
   "cell_type": "markdown",
   "metadata": {},
   "source": [
    "**Conditions are VERY Important**\n",
    "\n",
    "You want to use a condition 99% of the time."
   ]
  },
  {
   "cell_type": "code",
   "execution_count": 15,
   "metadata": {},
   "outputs": [],
   "source": [
    "params = {\n",
    "    'stars': 46936\n",
    "}\n",
    "cursor = db.execute(\"\"\"\n",
    "    UPDATE ProgrammingLanguage\n",
    "    SET\n",
    "        github_stars = :stars \n",
    "    WHERE\n",
    "    name = \"Node JS\"\n",
    "\"\"\", params)"
   ]
  },
  {
   "cell_type": "code",
   "execution_count": 16,
   "metadata": {},
   "outputs": [
    {
     "data": {
      "text/plain": [
       "[(1, 'Python', 18856),\n",
       " (2, 'Ruby', 14126),\n",
       " (3, 'Node JS', 46936),\n",
       " (4, 'Rust', 27319),\n",
       " (5, 'Perl', 321),\n",
       " (6, 'Clojure', 7056),\n",
       " (7, 'Scala', 9933),\n",
       " (8, 'Elixir', 12610),\n",
       " (9, 'Coffee Script', 14636),\n",
       " (10, 'PHP', 16864),\n",
       " (11, 'Kotlin', 21592)]"
      ]
     },
     "execution_count": 16,
     "metadata": {},
     "output_type": "execute_result"
    }
   ],
   "source": [
    "cursor = db.execute('SELECT * FROM ProgrammingLanguage')\n",
    "cursor.fetchall()"
   ]
  },
  {
   "cell_type": "markdown",
   "metadata": {},
   "source": [
    "**Update can also self-reference the same table**"
   ]
  },
  {
   "cell_type": "code",
   "execution_count": 17,
   "metadata": {},
   "outputs": [],
   "source": [
    "cursor = db.execute(\"\"\"\n",
    "    UPDATE ProgrammingLanguage\n",
    "    SET\n",
    "        github_stars = github_stars * 1000\n",
    "    WHERE name = \"Python\"\n",
    "\"\"\", params)"
   ]
  },
  {
   "cell_type": "code",
   "execution_count": 18,
   "metadata": {},
   "outputs": [
    {
     "data": {
      "text/plain": [
       "[(1, 'Python', 18856000),\n",
       " (2, 'Ruby', 14126),\n",
       " (3, 'Node JS', 46936),\n",
       " (4, 'Rust', 27319),\n",
       " (5, 'Perl', 321),\n",
       " (6, 'Clojure', 7056),\n",
       " (7, 'Scala', 9933),\n",
       " (8, 'Elixir', 12610),\n",
       " (9, 'Coffee Script', 14636),\n",
       " (10, 'PHP', 16864),\n",
       " (11, 'Kotlin', 21592)]"
      ]
     },
     "execution_count": 18,
     "metadata": {},
     "output_type": "execute_result"
    }
   ],
   "source": [
    "cursor = db.execute('SELECT * FROM ProgrammingLanguage')\n",
    "cursor.fetchall()"
   ]
  },
  {
   "cell_type": "markdown",
   "metadata": {},
   "source": [
    "**If you DON'T use a condition**"
   ]
  },
  {
   "cell_type": "code",
   "execution_count": 19,
   "metadata": {},
   "outputs": [],
   "source": [
    "cursor = db.execute(\"\"\"\n",
    "    UPDATE ProgrammingLanguage\n",
    "    SET\n",
    "        github_stars = 1\n",
    "\"\"\", params)"
   ]
  },
  {
   "cell_type": "code",
   "execution_count": 20,
   "metadata": {},
   "outputs": [
    {
     "data": {
      "text/plain": [
       "[(1, 'Python', 1),\n",
       " (2, 'Ruby', 1),\n",
       " (3, 'Node JS', 1),\n",
       " (4, 'Rust', 1),\n",
       " (5, 'Perl', 1),\n",
       " (6, 'Clojure', 1),\n",
       " (7, 'Scala', 1),\n",
       " (8, 'Elixir', 1),\n",
       " (9, 'Coffee Script', 1),\n",
       " (10, 'PHP', 1),\n",
       " (11, 'Kotlin', 1)]"
      ]
     },
     "execution_count": 20,
     "metadata": {},
     "output_type": "execute_result"
    }
   ],
   "source": [
    "cursor = db.execute('SELECT * FROM ProgrammingLanguage')\n",
    "cursor.fetchall()"
   ]
  },
  {
   "cell_type": "markdown",
   "metadata": {},
   "source": [
    "You've updated your entire table."
   ]
  },
  {
   "cell_type": "markdown",
   "metadata": {},
   "source": [
    "### DELETE\n",
    "\n",
    "```sql\n",
    "DELETE FROM <TABLE>\n",
    "WHERE <CONDITION>\n",
    "```"
   ]
  },
  {
   "cell_type": "markdown",
   "metadata": {},
   "source": [
    "**CONDITIONS ARE IMPORTANT!**\n",
    "\n",
    "We're want to delete a programming language from this list (obviously PHP 🤢)..."
   ]
  },
  {
   "cell_type": "code",
   "execution_count": 21,
   "metadata": {},
   "outputs": [],
   "source": [
    "cursor = db.execute('DELETE FROM ProgrammingLanguage WHERE name = \"PHP\"')"
   ]
  },
  {
   "cell_type": "code",
   "execution_count": 22,
   "metadata": {},
   "outputs": [
    {
     "data": {
      "text/plain": [
       "[(1, 'Python', 1),\n",
       " (2, 'Ruby', 1),\n",
       " (3, 'Node JS', 1),\n",
       " (4, 'Rust', 1),\n",
       " (5, 'Perl', 1),\n",
       " (6, 'Clojure', 1),\n",
       " (7, 'Scala', 1),\n",
       " (8, 'Elixir', 1),\n",
       " (9, 'Coffee Script', 1),\n",
       " (11, 'Kotlin', 1)]"
      ]
     },
     "execution_count": 22,
     "metadata": {},
     "output_type": "execute_result"
    }
   ],
   "source": [
    "cursor = db.execute('SELECT * FROM ProgrammingLanguage')\n",
    "cursor.fetchall()"
   ]
  },
  {
   "cell_type": "markdown",
   "metadata": {},
   "source": [
    "PHP is gone! 🎉"
   ]
  },
  {
   "cell_type": "markdown",
   "metadata": {},
   "source": [
    "**WARNING: If you forget the condition**"
   ]
  },
  {
   "cell_type": "code",
   "execution_count": 23,
   "metadata": {},
   "outputs": [],
   "source": [
    "cursor = db.execute('DELETE FROM ProgrammingLanguage')"
   ]
  },
  {
   "cell_type": "code",
   "execution_count": 24,
   "metadata": {},
   "outputs": [
    {
     "data": {
      "text/plain": [
       "[]"
      ]
     },
     "execution_count": 24,
     "metadata": {},
     "output_type": "execute_result"
    }
   ],
   "source": [
    "cursor = db.execute('SELECT * FROM ProgrammingLanguage')\n",
    "cursor.fetchall()"
   ]
  },
  {
   "cell_type": "markdown",
   "metadata": {},
   "source": [
    "You've just wiped all your data.\n",
    "\n",
    "**Recommendation:** If you have to write an UPDATE or DELETE query, start writing FIRST the condition. And then complete the table and the rest of your query."
   ]
  }
 ],
 "metadata": {
  "kernelspec": {
   "display_name": "Python 3",
   "language": "python",
   "name": "python3"
  },
  "language_info": {
   "codemirror_mode": {
    "name": "ipython",
    "version": 3
   },
   "file_extension": ".py",
   "mimetype": "text/x-python",
   "name": "python",
   "nbconvert_exporter": "python",
   "pygments_lexer": "ipython3",
   "version": "3.6.0"
  }
 },
 "nbformat": 4,
 "nbformat_minor": 2
}
